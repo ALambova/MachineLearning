{
 "cells": [
  {
   "cell_type": "code",
   "execution_count": 1,
   "metadata": {
    "collapsed": true
   },
   "outputs": [],
   "source": [
    "import sys\n",
    "import sklearn\n",
    "import pandas as pd\n",
    "import matplotlib as mpl\n",
    "import matplotlib.pyplot as plt\n",
    "import seaborn as sns\n",
    "import numpy as np\n",
    "\n",
    "%matplotlib inline"
   ]
  },
  {
   "cell_type": "markdown",
   "metadata": {},
   "source": [
    "Прочитам тренировъчните данни и ги копирам в data."
   ]
  },
  {
   "cell_type": "code",
   "execution_count": 2,
   "metadata": {},
   "outputs": [
    {
     "data": {
      "text/plain": [
       "(19579, 2)"
      ]
     },
     "execution_count": 2,
     "metadata": {},
     "output_type": "execute_result"
    }
   ],
   "source": [
    "original = pd.read_csv('data/spooky/train.csv', index_col=[0])\n",
    "data = original.copy()\n",
    "\n",
    "data.shape"
   ]
  },
  {
   "cell_type": "code",
   "execution_count": 3,
   "metadata": {},
   "outputs": [
    {
     "data": {
      "text/html": [
       "<div>\n",
       "<style>\n",
       "    .dataframe thead tr:only-child th {\n",
       "        text-align: right;\n",
       "    }\n",
       "\n",
       "    .dataframe thead th {\n",
       "        text-align: left;\n",
       "    }\n",
       "\n",
       "    .dataframe tbody tr th {\n",
       "        vertical-align: top;\n",
       "    }\n",
       "</style>\n",
       "<table border=\"1\" class=\"dataframe\">\n",
       "  <thead>\n",
       "    <tr style=\"text-align: right;\">\n",
       "      <th></th>\n",
       "      <th>text</th>\n",
       "      <th>author</th>\n",
       "    </tr>\n",
       "    <tr>\n",
       "      <th>id</th>\n",
       "      <th></th>\n",
       "      <th></th>\n",
       "    </tr>\n",
       "  </thead>\n",
       "  <tbody>\n",
       "    <tr>\n",
       "      <th>id26305</th>\n",
       "      <td>This process, however, afforded me no means of...</td>\n",
       "      <td>EAP</td>\n",
       "    </tr>\n",
       "    <tr>\n",
       "      <th>id17569</th>\n",
       "      <td>It never once occurred to me that the fumbling...</td>\n",
       "      <td>HPL</td>\n",
       "    </tr>\n",
       "    <tr>\n",
       "      <th>id11008</th>\n",
       "      <td>In his left hand was a gold snuff box, from wh...</td>\n",
       "      <td>EAP</td>\n",
       "    </tr>\n",
       "    <tr>\n",
       "      <th>id27763</th>\n",
       "      <td>How lovely is spring As we looked from Windsor...</td>\n",
       "      <td>MWS</td>\n",
       "    </tr>\n",
       "    <tr>\n",
       "      <th>id12958</th>\n",
       "      <td>Finding nothing else, not even gold, the Super...</td>\n",
       "      <td>HPL</td>\n",
       "    </tr>\n",
       "    <tr>\n",
       "      <th>id22965</th>\n",
       "      <td>A youth passed in solitude, my best years spen...</td>\n",
       "      <td>MWS</td>\n",
       "    </tr>\n",
       "    <tr>\n",
       "      <th>id09674</th>\n",
       "      <td>The astronomer, perhaps, at this point, took r...</td>\n",
       "      <td>EAP</td>\n",
       "    </tr>\n",
       "    <tr>\n",
       "      <th>id13515</th>\n",
       "      <td>The surcingle hung in ribands from my body.</td>\n",
       "      <td>EAP</td>\n",
       "    </tr>\n",
       "    <tr>\n",
       "      <th>id19322</th>\n",
       "      <td>I knew that you could not say to yourself 'ste...</td>\n",
       "      <td>EAP</td>\n",
       "    </tr>\n",
       "    <tr>\n",
       "      <th>id00912</th>\n",
       "      <td>I confess that neither the structure of langua...</td>\n",
       "      <td>MWS</td>\n",
       "    </tr>\n",
       "  </tbody>\n",
       "</table>\n",
       "</div>"
      ],
      "text/plain": [
       "                                                      text author\n",
       "id                                                               \n",
       "id26305  This process, however, afforded me no means of...    EAP\n",
       "id17569  It never once occurred to me that the fumbling...    HPL\n",
       "id11008  In his left hand was a gold snuff box, from wh...    EAP\n",
       "id27763  How lovely is spring As we looked from Windsor...    MWS\n",
       "id12958  Finding nothing else, not even gold, the Super...    HPL\n",
       "id22965  A youth passed in solitude, my best years spen...    MWS\n",
       "id09674  The astronomer, perhaps, at this point, took r...    EAP\n",
       "id13515        The surcingle hung in ribands from my body.    EAP\n",
       "id19322  I knew that you could not say to yourself 'ste...    EAP\n",
       "id00912  I confess that neither the structure of langua...    MWS"
      ]
     },
     "execution_count": 3,
     "metadata": {},
     "output_type": "execute_result"
    }
   ],
   "source": [
    "data.head(10)"
   ]
  },
  {
   "cell_type": "markdown",
   "metadata": {},
   "source": [
    "Ще визуализирам дяловете на цитатите на тримата автори в тренировъчните данни"
   ]
  },
  {
   "cell_type": "code",
   "execution_count": 4,
   "metadata": {},
   "outputs": [
    {
     "data": {
      "image/png": "[encoded data removed]",
      "text/plain": [
       "<matplotlib.figure.Figure at 0x61836f0080>"
      ]
     },
     "metadata": {},
     "output_type": "display_data"
    }
   ],
   "source": [
    "data['author'].value_counts().plot.pie(figsize=(8, 8), autopct='%1.1f%%');"
   ]
  },
  {
   "cell_type": "markdown",
   "metadata": {},
   "source": [
    "Най-много са цитатите на Едгар Алън По, но разликата в големината на дяловете не е много голяма."
   ]
  },
  {
   "cell_type": "markdown",
   "metadata": {},
   "source": [
    "Най-често срещаните думи както се очаква са stopwords."
   ]
  },
  {
   "cell_type": "code",
   "execution_count": 5,
   "metadata": {},
   "outputs": [
    {
     "data": {
      "text/plain": [
       "the     33296\n",
       "of      20851\n",
       "and     17059\n",
       "to      12615\n",
       "I       10382\n",
       "a       10359\n",
       "in       8787\n",
       "was      6440\n",
       "that     5988\n",
       "my       5037\n",
       "dtype: int64"
      ]
     },
     "execution_count": 5,
     "metadata": {},
     "output_type": "execute_result"
    }
   ],
   "source": [
    "all_words = data['text'].str.split(expand=True).unstack().value_counts()\n",
    "all_words.head(10)"
   ]
  },
  {
   "cell_type": "markdown",
   "metadata": {},
   "source": [
    "За начален модел ще пробвам с CountVectorizer и различни класификатори."
   ]
  },
  {
   "cell_type": "code",
   "execution_count": 6,
   "metadata": {},
   "outputs": [
    {
     "data": {
      "text/plain": [
       "(19579, 25068)"
      ]
     },
     "execution_count": 6,
     "metadata": {},
     "output_type": "execute_result"
    }
   ],
   "source": [
    "from sklearn.feature_extraction.text import CountVectorizer\n",
    "\n",
    "count_vect = CountVectorizer()\n",
    "X_train_counts = count_vect.fit_transform(data.text)\n",
    "X_train_counts.shape"
   ]
  },
  {
   "cell_type": "markdown",
   "metadata": {},
   "source": [
    "От CountVectorizer получавам 25068 features."
   ]
  },
  {
   "cell_type": "markdown",
   "metadata": {},
   "source": [
    "Първо пробвам с LinearSVC."
   ]
  },
  {
   "cell_type": "code",
   "execution_count": 7,
   "metadata": {},
   "outputs": [
    {
     "name": "stdout",
     "output_type": "stream",
     "text": [
      "[ 0.78783701  0.79635305  0.79509579]\n"
     ]
    }
   ],
   "source": [
    "from sklearn.pipeline import Pipeline\n",
    "from sklearn.svm import LinearSVC\n",
    "from sklearn.model_selection import cross_val_score\n",
    "\n",
    "pipeline = Pipeline([\n",
    "    ('features', CountVectorizer()),\n",
    "    ('clf', LinearSVC())\n",
    "])\n",
    "\n",
    "print(cross_val_score(pipeline, data.text, data.author, cv=3, n_jobs=3))"
   ]
  },
  {
   "cell_type": "markdown",
   "metadata": {},
   "source": [
    "Сравнително добър резултат като за начало. Сега ще пробвам с RandomForest. Ще изведа и negative log loss score, защото така се оценява в съзтезанието в kaggle."
   ]
  },
  {
   "cell_type": "code",
   "execution_count": 8,
   "metadata": {},
   "outputs": [
    {
     "name": "stdout",
     "output_type": "stream",
     "text": [
      "[ 0.60401348  0.61722341  0.61685824]\n",
      "[-1.4360023  -1.42338502 -1.36410404]\n"
     ]
    }
   ],
   "source": [
    "from sklearn.ensemble import RandomForestClassifier\n",
    "pipeline = Pipeline([\n",
    "    ('features', CountVectorizer()),\n",
    "    ('clf', RandomForestClassifier())\n",
    "])\n",
    "\n",
    "print(cross_val_score(pipeline, data.text, data.author, cv=3, n_jobs=3))\n",
    "print(cross_val_score(pipeline, data.text, data.author, cv=3, n_jobs=3, scoring='neg_log_loss'))"
   ]
  },
  {
   "cell_type": "markdown",
   "metadata": {},
   "source": [
    "С RandomForest получавам по-лоши резултати. Ще пробвам с логистична регресия и с MultinomiaNB."
   ]
  },
  {
   "cell_type": "code",
   "execution_count": 9,
   "metadata": {},
   "outputs": [
    {
     "name": "stdout",
     "output_type": "stream",
     "text": [
      "LogisticRegression: \n",
      "[ 0.81449142  0.8168863   0.81348659]\n",
      "[-0.47678373 -0.47558868 -0.47131484]\n",
      "MultinomiaNB: \n",
      "[ 0.83455882  0.83619369  0.83417625]\n",
      "[-0.48631897 -0.4762863  -0.479489  ]\n"
     ]
    }
   ],
   "source": [
    "from sklearn.linear_model import LogisticRegression\n",
    "from sklearn.naive_bayes import MultinomialNB\n",
    "\n",
    "pipeline1 = Pipeline([\n",
    "    ('features', CountVectorizer()),\n",
    "    ('clf', LogisticRegression())\n",
    "])\n",
    "\n",
    "print(\"LogisticRegression: \")\n",
    "print(cross_val_score(pipeline1, data.text, data.author, cv=3, n_jobs=3))\n",
    "print(cross_val_score(pipeline1, data.text, data.author, cv=3, n_jobs=3, scoring='neg_log_loss'))\n",
    "\n",
    "\n",
    "pipeline2 = Pipeline([('vect', CountVectorizer()),\n",
    "                    ('clf', MultinomialNB()),\n",
    "                   ])\n",
    "\n",
    "print(\"MultinomiaNB: \")\n",
    "print(cross_val_score(pipeline2, data.text, data.author, cv=3, n_jobs=3))\n",
    "print(cross_val_score(pipeline2, data.text, data.author, cv=3, n_jobs=3, scoring='neg_log_loss'))"
   ]
  },
  {
   "cell_type": "markdown",
   "metadata": {},
   "source": [
    "С MultinomiaNB получавам най-добри резултати. С логистичната регресия negative log loss скора е малко по-добър."
   ]
  },
  {
   "cell_type": "markdown",
   "metadata": {},
   "source": [
    "Сега ще пробвам да добавя нови фичъри, свързани с някакви характеристики на текстовете. Броят уникални думи и думи само от главни букви ще ги разделя на общия брой думи в цитата, за да взема отношението и да не се влияе от дължината на цитата."
   ]
  },
  {
   "cell_type": "code",
   "execution_count": 10,
   "metadata": {},
   "outputs": [
    {
     "data": {
      "text/html": [
       "<div>\n",
       "<style>\n",
       "    .dataframe thead tr:only-child th {\n",
       "        text-align: right;\n",
       "    }\n",
       "\n",
       "    .dataframe thead th {\n",
       "        text-align: left;\n",
       "    }\n",
       "\n",
       "    .dataframe tbody tr th {\n",
       "        vertical-align: top;\n",
       "    }\n",
       "</style>\n",
       "<table border=\"1\" class=\"dataframe\">\n",
       "  <thead>\n",
       "    <tr style=\"text-align: right;\">\n",
       "      <th></th>\n",
       "      <th>text</th>\n",
       "      <th>author</th>\n",
       "      <th>words</th>\n",
       "      <th>symbols</th>\n",
       "      <th>unique_words</th>\n",
       "      <th>only_capital_letter_words</th>\n",
       "      <th>average_word_length</th>\n",
       "    </tr>\n",
       "    <tr>\n",
       "      <th>id</th>\n",
       "      <th></th>\n",
       "      <th></th>\n",
       "      <th></th>\n",
       "      <th></th>\n",
       "      <th></th>\n",
       "      <th></th>\n",
       "      <th></th>\n",
       "    </tr>\n",
       "  </thead>\n",
       "  <tbody>\n",
       "    <tr>\n",
       "      <th>id26305</th>\n",
       "      <td>This process, however, afforded me no means of...</td>\n",
       "      <td>EAP</td>\n",
       "      <td>41</td>\n",
       "      <td>231</td>\n",
       "      <td>0.853659</td>\n",
       "      <td>0.048780</td>\n",
       "      <td>4.658537</td>\n",
       "    </tr>\n",
       "    <tr>\n",
       "      <th>id17569</th>\n",
       "      <td>It never once occurred to me that the fumbling...</td>\n",
       "      <td>HPL</td>\n",
       "      <td>14</td>\n",
       "      <td>71</td>\n",
       "      <td>1.000000</td>\n",
       "      <td>0.000000</td>\n",
       "      <td>4.142857</td>\n",
       "    </tr>\n",
       "    <tr>\n",
       "      <th>id11008</th>\n",
       "      <td>In his left hand was a gold snuff box, from wh...</td>\n",
       "      <td>EAP</td>\n",
       "      <td>36</td>\n",
       "      <td>200</td>\n",
       "      <td>0.888889</td>\n",
       "      <td>0.000000</td>\n",
       "      <td>4.583333</td>\n",
       "    </tr>\n",
       "    <tr>\n",
       "      <th>id27763</th>\n",
       "      <td>How lovely is spring As we looked from Windsor...</td>\n",
       "      <td>MWS</td>\n",
       "      <td>34</td>\n",
       "      <td>206</td>\n",
       "      <td>0.941176</td>\n",
       "      <td>0.000000</td>\n",
       "      <td>5.088235</td>\n",
       "    </tr>\n",
       "    <tr>\n",
       "      <th>id12958</th>\n",
       "      <td>Finding nothing else, not even gold, the Super...</td>\n",
       "      <td>HPL</td>\n",
       "      <td>27</td>\n",
       "      <td>174</td>\n",
       "      <td>0.925926</td>\n",
       "      <td>0.000000</td>\n",
       "      <td>5.481481</td>\n",
       "    </tr>\n",
       "    <tr>\n",
       "      <th>id22965</th>\n",
       "      <td>A youth passed in solitude, my best years spen...</td>\n",
       "      <td>MWS</td>\n",
       "      <td>83</td>\n",
       "      <td>468</td>\n",
       "      <td>0.795181</td>\n",
       "      <td>0.060241</td>\n",
       "      <td>4.650602</td>\n",
       "    </tr>\n",
       "    <tr>\n",
       "      <th>id09674</th>\n",
       "      <td>The astronomer, perhaps, at this point, took r...</td>\n",
       "      <td>EAP</td>\n",
       "      <td>21</td>\n",
       "      <td>128</td>\n",
       "      <td>1.000000</td>\n",
       "      <td>0.000000</td>\n",
       "      <td>5.142857</td>\n",
       "    </tr>\n",
       "    <tr>\n",
       "      <th>id13515</th>\n",
       "      <td>The surcingle hung in ribands from my body.</td>\n",
       "      <td>EAP</td>\n",
       "      <td>8</td>\n",
       "      <td>43</td>\n",
       "      <td>1.000000</td>\n",
       "      <td>0.000000</td>\n",
       "      <td>4.500000</td>\n",
       "    </tr>\n",
       "    <tr>\n",
       "      <th>id19322</th>\n",
       "      <td>I knew that you could not say to yourself 'ste...</td>\n",
       "      <td>EAP</td>\n",
       "      <td>88</td>\n",
       "      <td>488</td>\n",
       "      <td>0.704545</td>\n",
       "      <td>0.045455</td>\n",
       "      <td>4.556818</td>\n",
       "    </tr>\n",
       "    <tr>\n",
       "      <th>id00912</th>\n",
       "      <td>I confess that neither the structure of langua...</td>\n",
       "      <td>MWS</td>\n",
       "      <td>23</td>\n",
       "      <td>144</td>\n",
       "      <td>0.782609</td>\n",
       "      <td>0.043478</td>\n",
       "      <td>5.304348</td>\n",
       "    </tr>\n",
       "  </tbody>\n",
       "</table>\n",
       "</div>"
      ],
      "text/plain": [
       "                                                      text author  words  \\\n",
       "id                                                                         \n",
       "id26305  This process, however, afforded me no means of...    EAP     41   \n",
       "id17569  It never once occurred to me that the fumbling...    HPL     14   \n",
       "id11008  In his left hand was a gold snuff box, from wh...    EAP     36   \n",
       "id27763  How lovely is spring As we looked from Windsor...    MWS     34   \n",
       "id12958  Finding nothing else, not even gold, the Super...    HPL     27   \n",
       "id22965  A youth passed in solitude, my best years spen...    MWS     83   \n",
       "id09674  The astronomer, perhaps, at this point, took r...    EAP     21   \n",
       "id13515        The surcingle hung in ribands from my body.    EAP      8   \n",
       "id19322  I knew that you could not say to yourself 'ste...    EAP     88   \n",
       "id00912  I confess that neither the structure of langua...    MWS     23   \n",
       "\n",
       "         symbols  unique_words  only_capital_letter_words  average_word_length  \n",
       "id                                                                              \n",
       "id26305      231      0.853659                   0.048780             4.658537  \n",
       "id17569       71      1.000000                   0.000000             4.142857  \n",
       "id11008      200      0.888889                   0.000000             4.583333  \n",
       "id27763      206      0.941176                   0.000000             5.088235  \n",
       "id12958      174      0.925926                   0.000000             5.481481  \n",
       "id22965      468      0.795181                   0.060241             4.650602  \n",
       "id09674      128      1.000000                   0.000000             5.142857  \n",
       "id13515       43      1.000000                   0.000000             4.500000  \n",
       "id19322      488      0.704545                   0.045455             4.556818  \n",
       "id00912      144      0.782609                   0.043478             5.304348  "
      ]
     },
     "execution_count": 10,
     "metadata": {},
     "output_type": "execute_result"
    }
   ],
   "source": [
    "data = original.copy()\n",
    "data['words'] = data.text.apply(lambda s: len(str(s).split()))\n",
    "data['symbols'] = data.text.apply(lambda s: len(str(s)))\n",
    "data['unique_words'] = data.text.apply(lambda s: len(set(str(s).split())))/data.words\n",
    "data['only_capital_letter_words'] = data.text.apply(lambda s: sum([str.isupper(w) for w in str(s).split()]))/data.words\n",
    "data['average_word_length'] = data.text.apply(lambda s: np.mean([len(w) for w in str(s).split()]))\n",
    "\n",
    "data.head(10)"
   ]
  },
  {
   "cell_type": "markdown",
   "metadata": {},
   "source": [
    "Ще визуализирам данните относно средните стойности на тези нови фичъри за всеки от авторите."
   ]
  },
  {
   "cell_type": "code",
   "execution_count": 11,
   "metadata": {},
   "outputs": [
    {
     "data": {
      "text/plain": [
       "<matplotlib.axes._subplots.AxesSubplot at 0x618523f6a0>"
      ]
     },
     "execution_count": 11,
     "metadata": {},
     "output_type": "execute_result"
    },
    {
     "data": {
      "image/png": "[encoded data removed]",
      "text/plain": [
       "<matplotlib.figure.Figure at 0x61852567f0>"
      ]
     },
     "metadata": {},
     "output_type": "display_data"
    }
   ],
   "source": [
    "sns.barplot(x=\"author\", y=\"words\", data=data)"
   ]
  },
  {
   "cell_type": "code",
   "execution_count": 12,
   "metadata": {},
   "outputs": [
    {
     "data": {
      "image/png": "[encoded data removed]",
      "text/plain": [
       "<matplotlib.figure.Figure at 0x6183346d30>"
      ]
     },
     "metadata": {},
     "output_type": "display_data"
    }
   ],
   "source": [
    "sns.barplot(x=\"author\", y=\"symbols\", data=data);"
   ]
  },
  {
   "cell_type": "code",
   "execution_count": 13,
   "metadata": {},
   "outputs": [
    {
     "data": {
      "image/png": "[encoded data removed]",
      "text/plain": [
       "<matplotlib.figure.Figure at 0x6183248b38>"
      ]
     },
     "metadata": {},
     "output_type": "display_data"
    }
   ],
   "source": [
    "sns.barplot(x=\"author\", y=\"average_word_length\", data=data);"
   ]
  },
  {
   "cell_type": "code",
   "execution_count": 14,
   "metadata": {},
   "outputs": [
    {
     "data": {
      "image/png": "[encoded data removed]",
      "text/plain": [
       "<matplotlib.figure.Figure at 0x61851f80b8>"
      ]
     },
     "metadata": {},
     "output_type": "display_data"
    }
   ],
   "source": [
    "sns.barplot(x=\"author\", y=\"unique_words\", data=data);"
   ]
  },
  {
   "cell_type": "code",
   "execution_count": 15,
   "metadata": {},
   "outputs": [
    {
     "data": {
      "image/png": "[encoded data removed]",
      "text/plain": [
       "<matplotlib.figure.Figure at 0x618520c2b0>"
      ]
     },
     "metadata": {},
     "output_type": "display_data"
    }
   ],
   "source": [
    "sns.barplot(x=\"author\", y=\"only_capital_letter_words\", data=data);"
   ]
  },
  {
   "cell_type": "markdown",
   "metadata": {},
   "source": [
    "Това, което забелязвам е , че по-ясно разграничение се забелязва единствено в използваните думи само с главни букви.\n",
    "Ако тренирам модел само с тези фичъри няма да получа много добри резултати."
   ]
  },
  {
   "cell_type": "code",
   "execution_count": 16,
   "metadata": {},
   "outputs": [
    {
     "data": {
      "text/plain": [
       "array([ 0.40349265,  0.40346307,  0.388659  ])"
      ]
     },
     "execution_count": 16,
     "metadata": {},
     "output_type": "execute_result"
    }
   ],
   "source": [
    "from sklearn.ensemble import RandomForestClassifier\n",
    "features = list(set(data.columns) - {'text', 'author'})\n",
    "cross_val_score(LinearSVC(), data[features], data.author, cv=3, n_jobs=3)"
   ]
  },
  {
   "cell_type": "markdown",
   "metadata": {},
   "source": [
    "Сега ще добавя тези фичъри към получените от CountVectorizer, за да подобря резултата."
   ]
  },
  {
   "cell_type": "code",
   "execution_count": 17,
   "metadata": {
    "collapsed": true
   },
   "outputs": [],
   "source": [
    "from pandas import DataFrame\n",
    "\n",
    "cv = CountVectorizer()#binary=True,min_df=0.0001,max_df=5000/19579)\n",
    "X = cv.fit_transform(data.text)\n"
   ]
  },
  {
   "cell_type": "markdown",
   "metadata": {
    "collapsed": true
   },
   "source": [
    "За да ги конкатенирам, първо ще преобразувам фичърите в дата фрейма в спарс матрица."
   ]
  },
  {
   "cell_type": "code",
   "execution_count": 18,
   "metadata": {},
   "outputs": [
    {
     "data": {
      "text/plain": [
       "(19579, 5)"
      ]
     },
     "execution_count": 18,
     "metadata": {},
     "output_type": "execute_result"
    }
   ],
   "source": [
    "import scipy\n",
    "df = data.drop(['text','author'], axis=1)\n",
    "X2 = scipy.sparse.csr_matrix(df.values)\n",
    "X2.shape"
   ]
  },
  {
   "cell_type": "code",
   "execution_count": 19,
   "metadata": {},
   "outputs": [
    {
     "data": {
      "text/plain": [
       "(19579, 25073)"
      ]
     },
     "execution_count": 19,
     "metadata": {},
     "output_type": "execute_result"
    }
   ],
   "source": [
    "from scipy.sparse import hstack\n",
    "\n",
    "X = hstack((X, X2))\n",
    "X.shape"
   ]
  },
  {
   "cell_type": "markdown",
   "metadata": {},
   "source": [
    "Отново ще пробвам с различни класификатори."
   ]
  },
  {
   "cell_type": "code",
   "execution_count": 20,
   "metadata": {},
   "outputs": [
    {
     "name": "stdout",
     "output_type": "stream",
     "text": [
      "LinearSVC: \n",
      "[ 0.67447917  0.72157524  0.77241379]\n",
      "LogisticRegression: \n",
      "[ 0.81755515  0.81703953  0.81869732]\n",
      "[-0.47069292 -0.46998808 -0.46572929]\n",
      "MultinomiaNB: \n",
      "[ 0.83670343  0.83573399  0.83770115]\n",
      "[-0.48364976 -0.4726204  -0.47812213]\n"
     ]
    }
   ],
   "source": [
    "svc = LinearSVC()\n",
    "print(\"LinearSVC: \")\n",
    "print(cross_val_score(svc, X, data.author, cv=3, n_jobs=3))\n",
    "\n",
    "lr = LogisticRegression()\n",
    "print(\"LogisticRegression: \")\n",
    "print(cross_val_score(lr, X, data.author, cv=3, n_jobs=3))\n",
    "print(cross_val_score(lr, X, data.author, cv=3, n_jobs=3, scoring='neg_log_loss'))\n",
    "\n",
    "mn = MultinomialNB()\n",
    "print(\"MultinomiaNB: \")\n",
    "print(cross_val_score(mn, X, data.author, cv=3, n_jobs=3))\n",
    "print(cross_val_score(mn, X, data.author, cv=3, n_jobs=3, scoring='neg_log_loss'))"
   ]
  },
  {
   "cell_type": "markdown",
   "metadata": {},
   "source": [
    "Няма особено подобрение в резултатите.\n",
    "Сега ще пробвам да извлека информация относно пунлтуацията. тя може да носи информация относно дължината на изреченията и това до колко сложни са те."
   ]
  },
  {
   "cell_type": "code",
   "execution_count": 21,
   "metadata": {},
   "outputs": [
    {
     "data": {
      "text/html": [
       "<div>\n",
       "<style>\n",
       "    .dataframe thead tr:only-child th {\n",
       "        text-align: right;\n",
       "    }\n",
       "\n",
       "    .dataframe thead th {\n",
       "        text-align: left;\n",
       "    }\n",
       "\n",
       "    .dataframe tbody tr th {\n",
       "        vertical-align: top;\n",
       "    }\n",
       "</style>\n",
       "<table border=\"1\" class=\"dataframe\">\n",
       "  <thead>\n",
       "    <tr style=\"text-align: right;\">\n",
       "      <th></th>\n",
       "      <th>words</th>\n",
       "      <th>symbols</th>\n",
       "      <th>unique_words</th>\n",
       "      <th>only_capital_letter_words</th>\n",
       "      <th>average_word_length</th>\n",
       "      <th>?</th>\n",
       "      <th>!</th>\n",
       "      <th>.</th>\n",
       "      <th>\"</th>\n",
       "      <th>'</th>\n",
       "      <th>,</th>\n",
       "      <th>;</th>\n",
       "      <th>:</th>\n",
       "      <th>punctuation</th>\n",
       "    </tr>\n",
       "  </thead>\n",
       "  <tbody>\n",
       "    <tr>\n",
       "      <th>count</th>\n",
       "      <td>19579.000000</td>\n",
       "      <td>19579.000000</td>\n",
       "      <td>19579.000000</td>\n",
       "      <td>19579.000000</td>\n",
       "      <td>19579.000000</td>\n",
       "      <td>19579.000000</td>\n",
       "      <td>19579.0</td>\n",
       "      <td>19579.000000</td>\n",
       "      <td>19579.000000</td>\n",
       "      <td>19579.000000</td>\n",
       "      <td>19579.000000</td>\n",
       "      <td>19579.000000</td>\n",
       "      <td>19579.000000</td>\n",
       "      <td>19579.000000</td>\n",
       "    </tr>\n",
       "    <tr>\n",
       "      <th>mean</th>\n",
       "      <td>26.730477</td>\n",
       "      <td>149.057408</td>\n",
       "      <td>0.903000</td>\n",
       "      <td>0.025966</td>\n",
       "      <td>4.624827</td>\n",
       "      <td>0.056080</td>\n",
       "      <td>0.0</td>\n",
       "      <td>1.012820</td>\n",
       "      <td>1.951887</td>\n",
       "      <td>1.951887</td>\n",
       "      <td>1.951887</td>\n",
       "      <td>1.951887</td>\n",
       "      <td>1.951887</td>\n",
       "      <td>10.828336</td>\n",
       "    </tr>\n",
       "    <tr>\n",
       "      <th>std</th>\n",
       "      <td>19.048353</td>\n",
       "      <td>106.800189</td>\n",
       "      <td>0.081717</td>\n",
       "      <td>0.045063</td>\n",
       "      <td>0.589194</td>\n",
       "      <td>0.248648</td>\n",
       "      <td>0.0</td>\n",
       "      <td>0.429156</td>\n",
       "      <td>2.092199</td>\n",
       "      <td>2.092199</td>\n",
       "      <td>2.092199</td>\n",
       "      <td>2.092199</td>\n",
       "      <td>2.092199</td>\n",
       "      <td>10.518313</td>\n",
       "    </tr>\n",
       "    <tr>\n",
       "      <th>min</th>\n",
       "      <td>2.000000</td>\n",
       "      <td>21.000000</td>\n",
       "      <td>0.446128</td>\n",
       "      <td>0.000000</td>\n",
       "      <td>2.000000</td>\n",
       "      <td>0.000000</td>\n",
       "      <td>0.0</td>\n",
       "      <td>0.000000</td>\n",
       "      <td>0.000000</td>\n",
       "      <td>0.000000</td>\n",
       "      <td>0.000000</td>\n",
       "      <td>0.000000</td>\n",
       "      <td>0.000000</td>\n",
       "      <td>1.000000</td>\n",
       "    </tr>\n",
       "    <tr>\n",
       "      <th>25%</th>\n",
       "      <td>15.000000</td>\n",
       "      <td>81.000000</td>\n",
       "      <td>0.846154</td>\n",
       "      <td>0.000000</td>\n",
       "      <td>4.250000</td>\n",
       "      <td>0.000000</td>\n",
       "      <td>0.0</td>\n",
       "      <td>1.000000</td>\n",
       "      <td>1.000000</td>\n",
       "      <td>1.000000</td>\n",
       "      <td>1.000000</td>\n",
       "      <td>1.000000</td>\n",
       "      <td>1.000000</td>\n",
       "      <td>6.000000</td>\n",
       "    </tr>\n",
       "    <tr>\n",
       "      <th>50%</th>\n",
       "      <td>23.000000</td>\n",
       "      <td>128.000000</td>\n",
       "      <td>0.909091</td>\n",
       "      <td>0.000000</td>\n",
       "      <td>4.590909</td>\n",
       "      <td>0.000000</td>\n",
       "      <td>0.0</td>\n",
       "      <td>1.000000</td>\n",
       "      <td>1.000000</td>\n",
       "      <td>1.000000</td>\n",
       "      <td>1.000000</td>\n",
       "      <td>1.000000</td>\n",
       "      <td>1.000000</td>\n",
       "      <td>6.000000</td>\n",
       "    </tr>\n",
       "    <tr>\n",
       "      <th>75%</th>\n",
       "      <td>34.000000</td>\n",
       "      <td>191.000000</td>\n",
       "      <td>1.000000</td>\n",
       "      <td>0.043478</td>\n",
       "      <td>4.952381</td>\n",
       "      <td>0.000000</td>\n",
       "      <td>0.0</td>\n",
       "      <td>1.000000</td>\n",
       "      <td>3.000000</td>\n",
       "      <td>3.000000</td>\n",
       "      <td>3.000000</td>\n",
       "      <td>3.000000</td>\n",
       "      <td>3.000000</td>\n",
       "      <td>16.000000</td>\n",
       "    </tr>\n",
       "    <tr>\n",
       "      <th>max</th>\n",
       "      <td>861.000000</td>\n",
       "      <td>4663.000000</td>\n",
       "      <td>1.000000</td>\n",
       "      <td>1.000000</td>\n",
       "      <td>11.000000</td>\n",
       "      <td>4.000000</td>\n",
       "      <td>0.0</td>\n",
       "      <td>16.000000</td>\n",
       "      <td>48.000000</td>\n",
       "      <td>48.000000</td>\n",
       "      <td>48.000000</td>\n",
       "      <td>48.000000</td>\n",
       "      <td>48.000000</td>\n",
       "      <td>241.000000</td>\n",
       "    </tr>\n",
       "  </tbody>\n",
       "</table>\n",
       "</div>"
      ],
      "text/plain": [
       "              words       symbols  unique_words  only_capital_letter_words  \\\n",
       "count  19579.000000  19579.000000  19579.000000               19579.000000   \n",
       "mean      26.730477    149.057408      0.903000                   0.025966   \n",
       "std       19.048353    106.800189      0.081717                   0.045063   \n",
       "min        2.000000     21.000000      0.446128                   0.000000   \n",
       "25%       15.000000     81.000000      0.846154                   0.000000   \n",
       "50%       23.000000    128.000000      0.909091                   0.000000   \n",
       "75%       34.000000    191.000000      1.000000                   0.043478   \n",
       "max      861.000000   4663.000000      1.000000                   1.000000   \n",
       "\n",
       "       average_word_length             ?        !             .             \"  \\\n",
       "count         19579.000000  19579.000000  19579.0  19579.000000  19579.000000   \n",
       "mean              4.624827      0.056080      0.0      1.012820      1.951887   \n",
       "std               0.589194      0.248648      0.0      0.429156      2.092199   \n",
       "min               2.000000      0.000000      0.0      0.000000      0.000000   \n",
       "25%               4.250000      0.000000      0.0      1.000000      1.000000   \n",
       "50%               4.590909      0.000000      0.0      1.000000      1.000000   \n",
       "75%               4.952381      0.000000      0.0      1.000000      3.000000   \n",
       "max              11.000000      4.000000      0.0     16.000000     48.000000   \n",
       "\n",
       "                  '             ,             ;             :   punctuation  \n",
       "count  19579.000000  19579.000000  19579.000000  19579.000000  19579.000000  \n",
       "mean       1.951887      1.951887      1.951887      1.951887     10.828336  \n",
       "std        2.092199      2.092199      2.092199      2.092199     10.518313  \n",
       "min        0.000000      0.000000      0.000000      0.000000      1.000000  \n",
       "25%        1.000000      1.000000      1.000000      1.000000      6.000000  \n",
       "50%        1.000000      1.000000      1.000000      1.000000      6.000000  \n",
       "75%        3.000000      3.000000      3.000000      3.000000     16.000000  \n",
       "max       48.000000     48.000000     48.000000     48.000000    241.000000  "
      ]
     },
     "execution_count": 21,
     "metadata": {},
     "output_type": "execute_result"
    }
   ],
   "source": [
    "\n",
    "data['?'] = data.text.apply(lambda s: sum([('?' in w) for w in str(s).split()]))\n",
    "data['!'] = data.text.apply(lambda s: sum([('!' in w) for w in str(s).split()]))\n",
    "data['.'] = data.text.apply(lambda s: sum([('.' in w) for w in str(s).split()]))\n",
    "data['\"'] = data.text.apply(lambda s: sum([(',' in w) for w in str(s).split()]))\n",
    "data[\"'\"] = data.text.apply(lambda s: sum([(',' in w) for w in str(s).split()]))\n",
    "data[','] = data.text.apply(lambda s: sum([(',' in w) for w in str(s).split()]))\n",
    "data[';'] = data.text.apply(lambda s: sum([(',' in w) for w in str(s).split()]))\n",
    "data[':'] = data.text.apply(lambda s: sum([(',' in w) for w in str(s).split()]))\n",
    "data['punctuation'] = data['?']+data['!']+data['.']+data['\"']+data[\"'\"]+data[',']+data[';']+data[':']\n",
    "\n",
    "data.describe()\n"
   ]
  },
  {
   "cell_type": "markdown",
   "metadata": {},
   "source": [
    "Колоната '!' е излишна тъй като максималния брой срещания на ! е 0."
   ]
  },
  {
   "cell_type": "code",
   "execution_count": 22,
   "metadata": {
    "collapsed": true
   },
   "outputs": [],
   "source": [
    "data = data.drop('!', axis=1)"
   ]
  },
  {
   "cell_type": "markdown",
   "metadata": {},
   "source": [
    "Ще визуализирам данните."
   ]
  },
  {
   "cell_type": "code",
   "execution_count": 23,
   "metadata": {},
   "outputs": [
    {
     "data": {
      "text/plain": [
       "<matplotlib.axes._subplots.AxesSubplot at 0x61850f84a8>"
      ]
     },
     "execution_count": 23,
     "metadata": {},
     "output_type": "execute_result"
    },
    {
     "data": {
      "image/png": "[encoded data removed]",
      "text/plain": [
       "<matplotlib.figure.Figure at 0x61850f99e8>"
      ]
     },
     "metadata": {},
     "output_type": "display_data"
    }
   ],
   "source": [
    "sns.barplot(x=\"author\", y=\"?\", data=data)"
   ]
  },
  {
   "cell_type": "code",
   "execution_count": 24,
   "metadata": {},
   "outputs": [
    {
     "data": {
      "text/plain": [
       "<matplotlib.axes._subplots.AxesSubplot at 0x61850d3198>"
      ]
     },
     "execution_count": 24,
     "metadata": {},
     "output_type": "execute_result"
    },
    {
     "data": {
      "image/png": "[encoded data removed]",
      "text/plain": [
       "<matplotlib.figure.Figure at 0x618523b2b0>"
      ]
     },
     "metadata": {},
     "output_type": "display_data"
    }
   ],
   "source": [
    "sns.barplot(x=\"author\", y=\".\", data=data)"
   ]
  },
  {
   "cell_type": "code",
   "execution_count": 25,
   "metadata": {},
   "outputs": [
    {
     "data": {
      "text/plain": [
       "<matplotlib.axes._subplots.AxesSubplot at 0x61850cef60>"
      ]
     },
     "execution_count": 25,
     "metadata": {},
     "output_type": "execute_result"
    },
    {
     "data": {
      "image/png": "[encoded data removed]",
      "text/plain": [
       "<matplotlib.figure.Figure at 0x61851b0160>"
      ]
     },
     "metadata": {},
     "output_type": "display_data"
    }
   ],
   "source": [
    "sns.barplot(x=\"author\", y=\",\", data=data)"
   ]
  },
  {
   "cell_type": "code",
   "execution_count": 26,
   "metadata": {},
   "outputs": [
    {
     "data": {
      "text/plain": [
       "<matplotlib.axes._subplots.AxesSubplot at 0x61850c60b8>"
      ]
     },
     "execution_count": 26,
     "metadata": {},
     "output_type": "execute_result"
    },
    {
     "data": {
      "image/png": "[encoded data removed]",
      "text/plain": [
       "<matplotlib.figure.Figure at 0x618519e748>"
      ]
     },
     "metadata": {},
     "output_type": "display_data"
    }
   ],
   "source": [
    "sns.barplot(x=\"author\", y=\";\", data=data)"
   ]
  },
  {
   "cell_type": "code",
   "execution_count": 27,
   "metadata": {},
   "outputs": [
    {
     "data": {
      "text/plain": [
       "<matplotlib.axes._subplots.AxesSubplot at 0x6185085828>"
      ]
     },
     "execution_count": 27,
     "metadata": {},
     "output_type": "execute_result"
    },
    {
     "data": {
      "image/png": "[encoded data removed]",
      "text/plain": [
       "<matplotlib.figure.Figure at 0x61850f2fd0>"
      ]
     },
     "metadata": {},
     "output_type": "display_data"
    }
   ],
   "source": [
    "sns.barplot(x=\"author\", y=\":\", data=data)"
   ]
  },
  {
   "cell_type": "code",
   "execution_count": 28,
   "metadata": {},
   "outputs": [
    {
     "data": {
      "text/plain": [
       "<matplotlib.axes._subplots.AxesSubplot at 0x61850a99e8>"
      ]
     },
     "execution_count": 28,
     "metadata": {},
     "output_type": "execute_result"
    },
    {
     "data": {
      "image/png": "[encoded data removed]",
      "text/plain": [
       "<matplotlib.figure.Figure at 0x61850a6400>"
      ]
     },
     "metadata": {},
     "output_type": "display_data"
    }
   ],
   "source": [
    "sns.barplot(x=\"author\", y=\"'\", data=data)"
   ]
  },
  {
   "cell_type": "code",
   "execution_count": 29,
   "metadata": {},
   "outputs": [
    {
     "data": {
      "text/plain": [
       "<matplotlib.axes._subplots.AxesSubplot at 0x61850459b0>"
      ]
     },
     "execution_count": 29,
     "metadata": {},
     "output_type": "execute_result"
    },
    {
     "data": {
      "image/png": "[encoded data removed]",
      "text/plain": [
       "<matplotlib.figure.Figure at 0x6185256898>"
      ]
     },
     "metadata": {},
     "output_type": "display_data"
    }
   ],
   "source": [
    "sns.barplot(x=\"author\", y='\"', data=data)"
   ]
  },
  {
   "cell_type": "code",
   "execution_count": 30,
   "metadata": {},
   "outputs": [
    {
     "data": {
      "text/plain": [
       "<matplotlib.axes._subplots.AxesSubplot at 0x6185055630>"
      ]
     },
     "execution_count": 30,
     "metadata": {},
     "output_type": "execute_result"
    },
    {
     "data": {
      "image/png": "[encoded data removed]",
      "text/plain": [
       "<matplotlib.figure.Figure at 0x618502bb00>"
      ]
     },
     "metadata": {},
     "output_type": "display_data"
    }
   ],
   "source": [
    "sns.barplot(x=\"author\", y=\"punctuation\", data=data)"
   ]
  },
  {
   "cell_type": "markdown",
   "metadata": {},
   "source": [
    "Виждам, че пунктуацията носи известна инфорация за автора и затова ще пробвам да я включа в модела."
   ]
  },
  {
   "cell_type": "code",
   "execution_count": 31,
   "metadata": {},
   "outputs": [
    {
     "name": "stdout",
     "output_type": "stream",
     "text": [
      "[ 0.8002451   0.79528042  0.80275862]\n",
      "[-0.63908468 -0.65178285 -0.62485951]\n"
     ]
    },
    {
     "data": {
      "text/html": [
       "<div>\n",
       "<style>\n",
       "    .dataframe thead tr:only-child th {\n",
       "        text-align: right;\n",
       "    }\n",
       "\n",
       "    .dataframe thead th {\n",
       "        text-align: left;\n",
       "    }\n",
       "\n",
       "    .dataframe tbody tr th {\n",
       "        vertical-align: top;\n",
       "    }\n",
       "</style>\n",
       "<table border=\"1\" class=\"dataframe\">\n",
       "  <thead>\n",
       "    <tr style=\"text-align: right;\">\n",
       "      <th></th>\n",
       "      <th>text</th>\n",
       "      <th>author</th>\n",
       "      <th>words</th>\n",
       "      <th>symbols</th>\n",
       "      <th>unique_words</th>\n",
       "      <th>only_capital_letter_words</th>\n",
       "      <th>average_word_length</th>\n",
       "      <th>?</th>\n",
       "      <th>.</th>\n",
       "      <th>\"</th>\n",
       "      <th>'</th>\n",
       "      <th>,</th>\n",
       "      <th>;</th>\n",
       "      <th>:</th>\n",
       "      <th>punctuation</th>\n",
       "    </tr>\n",
       "    <tr>\n",
       "      <th>id</th>\n",
       "      <th></th>\n",
       "      <th></th>\n",
       "      <th></th>\n",
       "      <th></th>\n",
       "      <th></th>\n",
       "      <th></th>\n",
       "      <th></th>\n",
       "      <th></th>\n",
       "      <th></th>\n",
       "      <th></th>\n",
       "      <th></th>\n",
       "      <th></th>\n",
       "      <th></th>\n",
       "      <th></th>\n",
       "      <th></th>\n",
       "    </tr>\n",
       "  </thead>\n",
       "  <tbody>\n",
       "    <tr>\n",
       "      <th>id26305</th>\n",
       "      <td>This process, however, afforded me no means of...</td>\n",
       "      <td>EAP</td>\n",
       "      <td>41</td>\n",
       "      <td>231</td>\n",
       "      <td>0.853659</td>\n",
       "      <td>0.048780</td>\n",
       "      <td>4.658537</td>\n",
       "      <td>0</td>\n",
       "      <td>1</td>\n",
       "      <td>4</td>\n",
       "      <td>4</td>\n",
       "      <td>4</td>\n",
       "      <td>4</td>\n",
       "      <td>4</td>\n",
       "      <td>21</td>\n",
       "    </tr>\n",
       "    <tr>\n",
       "      <th>id17569</th>\n",
       "      <td>It never once occurred to me that the fumbling...</td>\n",
       "      <td>HPL</td>\n",
       "      <td>14</td>\n",
       "      <td>71</td>\n",
       "      <td>1.000000</td>\n",
       "      <td>0.000000</td>\n",
       "      <td>4.142857</td>\n",
       "      <td>0</td>\n",
       "      <td>1</td>\n",
       "      <td>0</td>\n",
       "      <td>0</td>\n",
       "      <td>0</td>\n",
       "      <td>0</td>\n",
       "      <td>0</td>\n",
       "      <td>1</td>\n",
       "    </tr>\n",
       "    <tr>\n",
       "      <th>id11008</th>\n",
       "      <td>In his left hand was a gold snuff box, from wh...</td>\n",
       "      <td>EAP</td>\n",
       "      <td>36</td>\n",
       "      <td>200</td>\n",
       "      <td>0.888889</td>\n",
       "      <td>0.000000</td>\n",
       "      <td>4.583333</td>\n",
       "      <td>0</td>\n",
       "      <td>1</td>\n",
       "      <td>4</td>\n",
       "      <td>4</td>\n",
       "      <td>4</td>\n",
       "      <td>4</td>\n",
       "      <td>4</td>\n",
       "      <td>21</td>\n",
       "    </tr>\n",
       "    <tr>\n",
       "      <th>id27763</th>\n",
       "      <td>How lovely is spring As we looked from Windsor...</td>\n",
       "      <td>MWS</td>\n",
       "      <td>34</td>\n",
       "      <td>206</td>\n",
       "      <td>0.941176</td>\n",
       "      <td>0.000000</td>\n",
       "      <td>5.088235</td>\n",
       "      <td>0</td>\n",
       "      <td>1</td>\n",
       "      <td>3</td>\n",
       "      <td>3</td>\n",
       "      <td>3</td>\n",
       "      <td>3</td>\n",
       "      <td>3</td>\n",
       "      <td>16</td>\n",
       "    </tr>\n",
       "    <tr>\n",
       "      <th>id12958</th>\n",
       "      <td>Finding nothing else, not even gold, the Super...</td>\n",
       "      <td>HPL</td>\n",
       "      <td>27</td>\n",
       "      <td>174</td>\n",
       "      <td>0.925926</td>\n",
       "      <td>0.000000</td>\n",
       "      <td>5.481481</td>\n",
       "      <td>0</td>\n",
       "      <td>1</td>\n",
       "      <td>2</td>\n",
       "      <td>2</td>\n",
       "      <td>2</td>\n",
       "      <td>2</td>\n",
       "      <td>2</td>\n",
       "      <td>11</td>\n",
       "    </tr>\n",
       "    <tr>\n",
       "      <th>id22965</th>\n",
       "      <td>A youth passed in solitude, my best years spen...</td>\n",
       "      <td>MWS</td>\n",
       "      <td>83</td>\n",
       "      <td>468</td>\n",
       "      <td>0.795181</td>\n",
       "      <td>0.060241</td>\n",
       "      <td>4.650602</td>\n",
       "      <td>0</td>\n",
       "      <td>1</td>\n",
       "      <td>4</td>\n",
       "      <td>4</td>\n",
       "      <td>4</td>\n",
       "      <td>4</td>\n",
       "      <td>4</td>\n",
       "      <td>21</td>\n",
       "    </tr>\n",
       "    <tr>\n",
       "      <th>id09674</th>\n",
       "      <td>The astronomer, perhaps, at this point, took r...</td>\n",
       "      <td>EAP</td>\n",
       "      <td>21</td>\n",
       "      <td>128</td>\n",
       "      <td>1.000000</td>\n",
       "      <td>0.000000</td>\n",
       "      <td>5.142857</td>\n",
       "      <td>0</td>\n",
       "      <td>1</td>\n",
       "      <td>3</td>\n",
       "      <td>3</td>\n",
       "      <td>3</td>\n",
       "      <td>3</td>\n",
       "      <td>3</td>\n",
       "      <td>16</td>\n",
       "    </tr>\n",
       "    <tr>\n",
       "      <th>id13515</th>\n",
       "      <td>The surcingle hung in ribands from my body.</td>\n",
       "      <td>EAP</td>\n",
       "      <td>8</td>\n",
       "      <td>43</td>\n",
       "      <td>1.000000</td>\n",
       "      <td>0.000000</td>\n",
       "      <td>4.500000</td>\n",
       "      <td>0</td>\n",
       "      <td>1</td>\n",
       "      <td>0</td>\n",
       "      <td>0</td>\n",
       "      <td>0</td>\n",
       "      <td>0</td>\n",
       "      <td>0</td>\n",
       "      <td>1</td>\n",
       "    </tr>\n",
       "    <tr>\n",
       "      <th>id19322</th>\n",
       "      <td>I knew that you could not say to yourself 'ste...</td>\n",
       "      <td>EAP</td>\n",
       "      <td>88</td>\n",
       "      <td>488</td>\n",
       "      <td>0.704545</td>\n",
       "      <td>0.045455</td>\n",
       "      <td>4.556818</td>\n",
       "      <td>0</td>\n",
       "      <td>1</td>\n",
       "      <td>7</td>\n",
       "      <td>7</td>\n",
       "      <td>7</td>\n",
       "      <td>7</td>\n",
       "      <td>7</td>\n",
       "      <td>36</td>\n",
       "    </tr>\n",
       "    <tr>\n",
       "      <th>id00912</th>\n",
       "      <td>I confess that neither the structure of langua...</td>\n",
       "      <td>MWS</td>\n",
       "      <td>23</td>\n",
       "      <td>144</td>\n",
       "      <td>0.782609</td>\n",
       "      <td>0.043478</td>\n",
       "      <td>5.304348</td>\n",
       "      <td>0</td>\n",
       "      <td>1</td>\n",
       "      <td>2</td>\n",
       "      <td>2</td>\n",
       "      <td>2</td>\n",
       "      <td>2</td>\n",
       "      <td>2</td>\n",
       "      <td>11</td>\n",
       "    </tr>\n",
       "  </tbody>\n",
       "</table>\n",
       "</div>"
      ],
      "text/plain": [
       "                                                      text author  words  \\\n",
       "id                                                                         \n",
       "id26305  This process, however, afforded me no means of...    EAP     41   \n",
       "id17569  It never once occurred to me that the fumbling...    HPL     14   \n",
       "id11008  In his left hand was a gold snuff box, from wh...    EAP     36   \n",
       "id27763  How lovely is spring As we looked from Windsor...    MWS     34   \n",
       "id12958  Finding nothing else, not even gold, the Super...    HPL     27   \n",
       "id22965  A youth passed in solitude, my best years spen...    MWS     83   \n",
       "id09674  The astronomer, perhaps, at this point, took r...    EAP     21   \n",
       "id13515        The surcingle hung in ribands from my body.    EAP      8   \n",
       "id19322  I knew that you could not say to yourself 'ste...    EAP     88   \n",
       "id00912  I confess that neither the structure of langua...    MWS     23   \n",
       "\n",
       "         symbols  unique_words  only_capital_letter_words  \\\n",
       "id                                                          \n",
       "id26305      231      0.853659                   0.048780   \n",
       "id17569       71      1.000000                   0.000000   \n",
       "id11008      200      0.888889                   0.000000   \n",
       "id27763      206      0.941176                   0.000000   \n",
       "id12958      174      0.925926                   0.000000   \n",
       "id22965      468      0.795181                   0.060241   \n",
       "id09674      128      1.000000                   0.000000   \n",
       "id13515       43      1.000000                   0.000000   \n",
       "id19322      488      0.704545                   0.045455   \n",
       "id00912      144      0.782609                   0.043478   \n",
       "\n",
       "         average_word_length  ?  .  \"  '  ,  ;  :  punctuation  \n",
       "id                                                              \n",
       "id26305             4.658537  0  1  4  4  4  4  4           21  \n",
       "id17569             4.142857  0  1  0  0  0  0  0            1  \n",
       "id11008             4.583333  0  1  4  4  4  4  4           21  \n",
       "id27763             5.088235  0  1  3  3  3  3  3           16  \n",
       "id12958             5.481481  0  1  2  2  2  2  2           11  \n",
       "id22965             4.650602  0  1  4  4  4  4  4           21  \n",
       "id09674             5.142857  0  1  3  3  3  3  3           16  \n",
       "id13515             4.500000  0  1  0  0  0  0  0            1  \n",
       "id19322             4.556818  0  1  7  7  7  7  7           36  \n",
       "id00912             5.304348  0  1  2  2  2  2  2           11  "
      ]
     },
     "execution_count": 31,
     "metadata": {},
     "output_type": "execute_result"
    }
   ],
   "source": [
    "cv = CountVectorizer(binary=True,min_df=0.0001,max_df=5000/19579)\n",
    "X = cv.fit_transform(data.text)\n",
    "\n",
    "\n",
    "df = data.drop(['text','author'], axis=1)\n",
    "X2 = scipy.sparse.csr_matrix(df.values)\n",
    "X = hstack((X, X2))\n",
    "\n",
    "mn = MultinomialNB()\n",
    "#mn.fit(X,data.author)\n",
    "\n",
    "print(cross_val_score(mn, X, data.author, cv=3, n_jobs=3))\n",
    "print(cross_val_score(mn, X, data.author, cv=3, n_jobs=3, scoring='neg_log_loss'))\n",
    "\n",
    "data.head(10)"
   ]
  },
  {
   "cell_type": "markdown",
   "metadata": {},
   "source": [
    "Резултата стана по-лош. Ще махна част от пункт. знаци и общия им брой, който може би колерира с другите колони.\n",
    "След като съм извлякла информация от пунктуацията ще я премахна от текста."
   ]
  },
  {
   "cell_type": "code",
   "execution_count": 32,
   "metadata": {},
   "outputs": [
    {
     "data": {
      "text/html": [
       "<div>\n",
       "<style>\n",
       "    .dataframe thead tr:only-child th {\n",
       "        text-align: right;\n",
       "    }\n",
       "\n",
       "    .dataframe thead th {\n",
       "        text-align: left;\n",
       "    }\n",
       "\n",
       "    .dataframe tbody tr th {\n",
       "        vertical-align: top;\n",
       "    }\n",
       "</style>\n",
       "<table border=\"1\" class=\"dataframe\">\n",
       "  <thead>\n",
       "    <tr style=\"text-align: right;\">\n",
       "      <th></th>\n",
       "      <th>text</th>\n",
       "      <th>author</th>\n",
       "      <th>words</th>\n",
       "      <th>symbols</th>\n",
       "      <th>unique_words</th>\n",
       "      <th>only_capital_letter_words</th>\n",
       "      <th>average_word_length</th>\n",
       "      <th>?</th>\n",
       "      <th>.</th>\n",
       "      <th>,</th>\n",
       "    </tr>\n",
       "    <tr>\n",
       "      <th>id</th>\n",
       "      <th></th>\n",
       "      <th></th>\n",
       "      <th></th>\n",
       "      <th></th>\n",
       "      <th></th>\n",
       "      <th></th>\n",
       "      <th></th>\n",
       "      <th></th>\n",
       "      <th></th>\n",
       "      <th></th>\n",
       "    </tr>\n",
       "  </thead>\n",
       "  <tbody>\n",
       "    <tr>\n",
       "      <th>id26305</th>\n",
       "      <td>This process  however  afforded me no means of...</td>\n",
       "      <td>EAP</td>\n",
       "      <td>41</td>\n",
       "      <td>231</td>\n",
       "      <td>0.853659</td>\n",
       "      <td>0.04878</td>\n",
       "      <td>4.658537</td>\n",
       "      <td>0</td>\n",
       "      <td>1</td>\n",
       "      <td>4</td>\n",
       "    </tr>\n",
       "    <tr>\n",
       "      <th>id17569</th>\n",
       "      <td>It never once occurred to me that the fumbling...</td>\n",
       "      <td>HPL</td>\n",
       "      <td>14</td>\n",
       "      <td>71</td>\n",
       "      <td>1.000000</td>\n",
       "      <td>0.00000</td>\n",
       "      <td>4.142857</td>\n",
       "      <td>0</td>\n",
       "      <td>1</td>\n",
       "      <td>0</td>\n",
       "    </tr>\n",
       "    <tr>\n",
       "      <th>id11008</th>\n",
       "      <td>In his left hand was a gold snuff box  from wh...</td>\n",
       "      <td>EAP</td>\n",
       "      <td>36</td>\n",
       "      <td>200</td>\n",
       "      <td>0.888889</td>\n",
       "      <td>0.00000</td>\n",
       "      <td>4.583333</td>\n",
       "      <td>0</td>\n",
       "      <td>1</td>\n",
       "      <td>4</td>\n",
       "    </tr>\n",
       "    <tr>\n",
       "      <th>id27763</th>\n",
       "      <td>How lovely is spring As we looked from Windsor...</td>\n",
       "      <td>MWS</td>\n",
       "      <td>34</td>\n",
       "      <td>206</td>\n",
       "      <td>0.941176</td>\n",
       "      <td>0.00000</td>\n",
       "      <td>5.088235</td>\n",
       "      <td>0</td>\n",
       "      <td>1</td>\n",
       "      <td>3</td>\n",
       "    </tr>\n",
       "    <tr>\n",
       "      <th>id12958</th>\n",
       "      <td>Finding nothing else  not even gold  the Super...</td>\n",
       "      <td>HPL</td>\n",
       "      <td>27</td>\n",
       "      <td>174</td>\n",
       "      <td>0.925926</td>\n",
       "      <td>0.00000</td>\n",
       "      <td>5.481481</td>\n",
       "      <td>0</td>\n",
       "      <td>1</td>\n",
       "      <td>2</td>\n",
       "    </tr>\n",
       "  </tbody>\n",
       "</table>\n",
       "</div>"
      ],
      "text/plain": [
       "                                                      text author  words  \\\n",
       "id                                                                         \n",
       "id26305  This process  however  afforded me no means of...    EAP     41   \n",
       "id17569  It never once occurred to me that the fumbling...    HPL     14   \n",
       "id11008  In his left hand was a gold snuff box  from wh...    EAP     36   \n",
       "id27763  How lovely is spring As we looked from Windsor...    MWS     34   \n",
       "id12958  Finding nothing else  not even gold  the Super...    HPL     27   \n",
       "\n",
       "         symbols  unique_words  only_capital_letter_words  \\\n",
       "id                                                          \n",
       "id26305      231      0.853659                    0.04878   \n",
       "id17569       71      1.000000                    0.00000   \n",
       "id11008      200      0.888889                    0.00000   \n",
       "id27763      206      0.941176                    0.00000   \n",
       "id12958      174      0.925926                    0.00000   \n",
       "\n",
       "         average_word_length  ?  .  ,  \n",
       "id                                     \n",
       "id26305             4.658537  0  1  4  \n",
       "id17569             4.142857  0  1  0  \n",
       "id11008             4.583333  0  1  4  \n",
       "id27763             5.088235  0  1  3  \n",
       "id12958             5.481481  0  1  2  "
      ]
     },
     "execution_count": 32,
     "metadata": {},
     "output_type": "execute_result"
    }
   ],
   "source": [
    "data = data.drop(['\"',\"'\",';',':','punctuation'], axis=1)\n",
    "\n",
    "def replace(text, punct):\n",
    "        for p in punct:\n",
    "            text = text.replace(p,' ')\n",
    "        return text\n",
    "    \n",
    "punct = [',','?','.','\"',\"'\",';',':','!']\n",
    "\n",
    "data['text'] = data.text.apply(lambda s: replace(str(s), punct))\n",
    "\n",
    "data.head()"
   ]
  },
  {
   "cell_type": "markdown",
   "metadata": {},
   "source": [
    "Ще пробвам да добавя още няколко фичъра, които може да са по-характерни за някой от авторите:\n",
    "    -брой на негативните думи/представки в текста\n",
    "    -дали текста е разказан от първо лице\n",
    "    -брой на използваните имена в текста"
   ]
  },
  {
   "cell_type": "code",
   "execution_count": 33,
   "metadata": {},
   "outputs": [
    {
     "data": {
      "text/html": [
       "<div>\n",
       "<style>\n",
       "    .dataframe thead tr:only-child th {\n",
       "        text-align: right;\n",
       "    }\n",
       "\n",
       "    .dataframe thead th {\n",
       "        text-align: left;\n",
       "    }\n",
       "\n",
       "    .dataframe tbody tr th {\n",
       "        vertical-align: top;\n",
       "    }\n",
       "</style>\n",
       "<table border=\"1\" class=\"dataframe\">\n",
       "  <thead>\n",
       "    <tr style=\"text-align: right;\">\n",
       "      <th></th>\n",
       "      <th>text</th>\n",
       "      <th>author</th>\n",
       "      <th>words</th>\n",
       "      <th>symbols</th>\n",
       "      <th>unique_words</th>\n",
       "      <th>only_capital_letter_words</th>\n",
       "      <th>average_word_length</th>\n",
       "      <th>?</th>\n",
       "      <th>.</th>\n",
       "      <th>,</th>\n",
       "      <th>negative</th>\n",
       "      <th>I</th>\n",
       "      <th>names</th>\n",
       "    </tr>\n",
       "    <tr>\n",
       "      <th>id</th>\n",
       "      <th></th>\n",
       "      <th></th>\n",
       "      <th></th>\n",
       "      <th></th>\n",
       "      <th></th>\n",
       "      <th></th>\n",
       "      <th></th>\n",
       "      <th></th>\n",
       "      <th></th>\n",
       "      <th></th>\n",
       "      <th></th>\n",
       "      <th></th>\n",
       "      <th></th>\n",
       "    </tr>\n",
       "  </thead>\n",
       "  <tbody>\n",
       "    <tr>\n",
       "      <th>id26305</th>\n",
       "      <td>This process  however  afforded me no means of...</td>\n",
       "      <td>EAP</td>\n",
       "      <td>41</td>\n",
       "      <td>231</td>\n",
       "      <td>0.853659</td>\n",
       "      <td>0.048780</td>\n",
       "      <td>4.658537</td>\n",
       "      <td>0</td>\n",
       "      <td>1</td>\n",
       "      <td>4</td>\n",
       "      <td>2</td>\n",
       "      <td>1.0</td>\n",
       "      <td>3</td>\n",
       "    </tr>\n",
       "    <tr>\n",
       "      <th>id17569</th>\n",
       "      <td>It never once occurred to me that the fumbling...</td>\n",
       "      <td>HPL</td>\n",
       "      <td>14</td>\n",
       "      <td>71</td>\n",
       "      <td>1.000000</td>\n",
       "      <td>0.000000</td>\n",
       "      <td>4.142857</td>\n",
       "      <td>0</td>\n",
       "      <td>1</td>\n",
       "      <td>0</td>\n",
       "      <td>0</td>\n",
       "      <td>1.0</td>\n",
       "      <td>1</td>\n",
       "    </tr>\n",
       "    <tr>\n",
       "      <th>id11008</th>\n",
       "      <td>In his left hand was a gold snuff box  from wh...</td>\n",
       "      <td>EAP</td>\n",
       "      <td>36</td>\n",
       "      <td>200</td>\n",
       "      <td>0.888889</td>\n",
       "      <td>0.000000</td>\n",
       "      <td>4.583333</td>\n",
       "      <td>0</td>\n",
       "      <td>1</td>\n",
       "      <td>4</td>\n",
       "      <td>2</td>\n",
       "      <td>1.0</td>\n",
       "      <td>1</td>\n",
       "    </tr>\n",
       "    <tr>\n",
       "      <th>id27763</th>\n",
       "      <td>How lovely is spring As we looked from Windsor...</td>\n",
       "      <td>MWS</td>\n",
       "      <td>34</td>\n",
       "      <td>206</td>\n",
       "      <td>0.941176</td>\n",
       "      <td>0.000000</td>\n",
       "      <td>5.088235</td>\n",
       "      <td>0</td>\n",
       "      <td>1</td>\n",
       "      <td>3</td>\n",
       "      <td>2</td>\n",
       "      <td>1.0</td>\n",
       "      <td>4</td>\n",
       "    </tr>\n",
       "    <tr>\n",
       "      <th>id12958</th>\n",
       "      <td>Finding nothing else  not even gold  the Super...</td>\n",
       "      <td>HPL</td>\n",
       "      <td>27</td>\n",
       "      <td>174</td>\n",
       "      <td>0.925926</td>\n",
       "      <td>0.000000</td>\n",
       "      <td>5.481481</td>\n",
       "      <td>0</td>\n",
       "      <td>1</td>\n",
       "      <td>2</td>\n",
       "      <td>2</td>\n",
       "      <td>0.0</td>\n",
       "      <td>2</td>\n",
       "    </tr>\n",
       "    <tr>\n",
       "      <th>id22965</th>\n",
       "      <td>A youth passed in solitude  my best years spen...</td>\n",
       "      <td>MWS</td>\n",
       "      <td>83</td>\n",
       "      <td>468</td>\n",
       "      <td>0.795181</td>\n",
       "      <td>0.060241</td>\n",
       "      <td>4.650602</td>\n",
       "      <td>0</td>\n",
       "      <td>1</td>\n",
       "      <td>4</td>\n",
       "      <td>4</td>\n",
       "      <td>1.0</td>\n",
       "      <td>5</td>\n",
       "    </tr>\n",
       "    <tr>\n",
       "      <th>id09674</th>\n",
       "      <td>The astronomer  perhaps  at this point  took r...</td>\n",
       "      <td>EAP</td>\n",
       "      <td>21</td>\n",
       "      <td>128</td>\n",
       "      <td>1.000000</td>\n",
       "      <td>0.000000</td>\n",
       "      <td>5.142857</td>\n",
       "      <td>0</td>\n",
       "      <td>1</td>\n",
       "      <td>3</td>\n",
       "      <td>0</td>\n",
       "      <td>1.0</td>\n",
       "      <td>1</td>\n",
       "    </tr>\n",
       "    <tr>\n",
       "      <th>id13515</th>\n",
       "      <td>The surcingle hung in ribands from my body</td>\n",
       "      <td>EAP</td>\n",
       "      <td>8</td>\n",
       "      <td>43</td>\n",
       "      <td>1.000000</td>\n",
       "      <td>0.000000</td>\n",
       "      <td>4.500000</td>\n",
       "      <td>0</td>\n",
       "      <td>1</td>\n",
       "      <td>0</td>\n",
       "      <td>0</td>\n",
       "      <td>1.0</td>\n",
       "      <td>1</td>\n",
       "    </tr>\n",
       "    <tr>\n",
       "      <th>id19322</th>\n",
       "      <td>I knew that you could not say to yourself  ste...</td>\n",
       "      <td>EAP</td>\n",
       "      <td>88</td>\n",
       "      <td>488</td>\n",
       "      <td>0.704545</td>\n",
       "      <td>0.045455</td>\n",
       "      <td>4.556818</td>\n",
       "      <td>0</td>\n",
       "      <td>1</td>\n",
       "      <td>7</td>\n",
       "      <td>6</td>\n",
       "      <td>1.0</td>\n",
       "      <td>7</td>\n",
       "    </tr>\n",
       "    <tr>\n",
       "      <th>id00912</th>\n",
       "      <td>I confess that neither the structure of langua...</td>\n",
       "      <td>MWS</td>\n",
       "      <td>23</td>\n",
       "      <td>144</td>\n",
       "      <td>0.782609</td>\n",
       "      <td>0.043478</td>\n",
       "      <td>5.304348</td>\n",
       "      <td>0</td>\n",
       "      <td>1</td>\n",
       "      <td>2</td>\n",
       "      <td>0</td>\n",
       "      <td>1.0</td>\n",
       "      <td>1</td>\n",
       "    </tr>\n",
       "  </tbody>\n",
       "</table>\n",
       "</div>"
      ],
      "text/plain": [
       "                                                      text author  words  \\\n",
       "id                                                                         \n",
       "id26305  This process  however  afforded me no means of...    EAP     41   \n",
       "id17569  It never once occurred to me that the fumbling...    HPL     14   \n",
       "id11008  In his left hand was a gold snuff box  from wh...    EAP     36   \n",
       "id27763  How lovely is spring As we looked from Windsor...    MWS     34   \n",
       "id12958  Finding nothing else  not even gold  the Super...    HPL     27   \n",
       "id22965  A youth passed in solitude  my best years spen...    MWS     83   \n",
       "id09674  The astronomer  perhaps  at this point  took r...    EAP     21   \n",
       "id13515        The surcingle hung in ribands from my body     EAP      8   \n",
       "id19322  I knew that you could not say to yourself  ste...    EAP     88   \n",
       "id00912  I confess that neither the structure of langua...    MWS     23   \n",
       "\n",
       "         symbols  unique_words  only_capital_letter_words  \\\n",
       "id                                                          \n",
       "id26305      231      0.853659                   0.048780   \n",
       "id17569       71      1.000000                   0.000000   \n",
       "id11008      200      0.888889                   0.000000   \n",
       "id27763      206      0.941176                   0.000000   \n",
       "id12958      174      0.925926                   0.000000   \n",
       "id22965      468      0.795181                   0.060241   \n",
       "id09674      128      1.000000                   0.000000   \n",
       "id13515       43      1.000000                   0.000000   \n",
       "id19322      488      0.704545                   0.045455   \n",
       "id00912      144      0.782609                   0.043478   \n",
       "\n",
       "         average_word_length  ?  .  ,  negative    I  names  \n",
       "id                                                           \n",
       "id26305             4.658537  0  1  4         2  1.0      3  \n",
       "id17569             4.142857  0  1  0         0  1.0      1  \n",
       "id11008             4.583333  0  1  4         2  1.0      1  \n",
       "id27763             5.088235  0  1  3         2  1.0      4  \n",
       "id12958             5.481481  0  1  2         2  0.0      2  \n",
       "id22965             4.650602  0  1  4         4  1.0      5  \n",
       "id09674             5.142857  0  1  3         0  1.0      1  \n",
       "id13515             4.500000  0  1  0         0  1.0      1  \n",
       "id19322             4.556818  0  1  7         6  1.0      7  \n",
       "id00912             5.304348  0  1  2         0  1.0      1  "
      ]
     },
     "execution_count": 33,
     "metadata": {},
     "output_type": "execute_result"
    }
   ],
   "source": [
    "data['negative'] = data.text.apply(lambda s: sum(\n",
    "    [('not' in w or 'dis' in w or 'ir' in w or 'il' in w or 'im' in w) for w in str(s).split()]))\n",
    "data['I'] = (data.text.apply(lambda s: True in[('I' in w or 'me' in w or 'my' in w or 'we' in w) for w in str(s).split()])).astype(float)\n",
    "data['names'] = data.text.apply(lambda s: sum([str.isupper(w[0]) for w in str(s).split()]))\n",
    "\n",
    "data.head(10)\n"
   ]
  },
  {
   "cell_type": "code",
   "execution_count": 34,
   "metadata": {},
   "outputs": [
    {
     "data": {
      "text/plain": [
       "<matplotlib.axes._subplots.AxesSubplot at 0x61850b1710>"
      ]
     },
     "execution_count": 34,
     "metadata": {},
     "output_type": "execute_result"
    },
    {
     "data": {
      "image/png": "[encoded data removed]",
      "text/plain": [
       "<matplotlib.figure.Figure at 0x618502b9b0>"
      ]
     },
     "metadata": {},
     "output_type": "display_data"
    }
   ],
   "source": [
    "sns.barplot(x=\"author\", y=\"negative\", data=data)"
   ]
  },
  {
   "cell_type": "code",
   "execution_count": 35,
   "metadata": {},
   "outputs": [
    {
     "data": {
      "text/plain": [
       "<matplotlib.axes._subplots.AxesSubplot at 0x6184fde8d0>"
      ]
     },
     "execution_count": 35,
     "metadata": {},
     "output_type": "execute_result"
    },
    {
     "data": {
      "image/png": "[encoded data removed]",
      "text/plain": [
       "<matplotlib.figure.Figure at 0x61850a64a8>"
      ]
     },
     "metadata": {},
     "output_type": "display_data"
    }
   ],
   "source": [
    "sns.barplot(x=\"author\", y=\"I\", data=data)\n"
   ]
  },
  {
   "cell_type": "code",
   "execution_count": 36,
   "metadata": {},
   "outputs": [
    {
     "data": {
      "text/plain": [
       "<matplotlib.axes._subplots.AxesSubplot at 0x6184fb62b0>"
      ]
     },
     "execution_count": 36,
     "metadata": {},
     "output_type": "execute_result"
    },
    {
     "data": {
      "image/png": "[encoded data removed]",
      "text/plain": [
       "<matplotlib.figure.Figure at 0x6184fedc18>"
      ]
     },
     "metadata": {},
     "output_type": "display_data"
    }
   ],
   "source": [
    "sns.barplot(x=\"author\", y=\"names\", data=data)"
   ]
  },
  {
   "cell_type": "markdown",
   "metadata": {},
   "source": [
    "Има малка разлика в използваните от авторите негативни думи, имена и текстове от първо лице. Това може да се окаже полезно.\n",
    "Ще пробвам да тренирам модел с тези данни."
   ]
  },
  {
   "cell_type": "code",
   "execution_count": 37,
   "metadata": {},
   "outputs": [
    {
     "name": "stdout",
     "output_type": "stream",
     "text": [
      "[ 0.84604779  0.84661355  0.84229885]\n",
      "[-0.44274938 -0.43195773 -0.44041342]\n",
      "[ 0.81724877  0.82133006  0.82068966]\n",
      "[-0.46250443 -0.46393137 -0.45712546]\n"
     ]
    }
   ],
   "source": [
    "X = cv.fit_transform(data.text)\n",
    "\n",
    "df = data.drop(['text','author'], axis=1)\n",
    "X2 = scipy.sparse.csr_matrix(df.values)\n",
    "X = hstack((X, X2))\n",
    "\n",
    "mn = MultinomialNB()\n",
    "print(cross_val_score(mn, X, data.author, cv=3, n_jobs=3))\n",
    "print(cross_val_score(mn, X, data.author, cv=3, n_jobs=3, scoring='neg_log_loss'))\n",
    "\n",
    "lr= LogisticRegression()\n",
    "\n",
    "\n",
    "print(cross_val_score(lr, X, data.author, cv=3, n_jobs=3))\n",
    "print(cross_val_score(lr, X, data.author, cv=3, n_jobs=3, scoring='neg_log_loss'))"
   ]
  },
  {
   "cell_type": "markdown",
   "metadata": {},
   "source": [
    "След тестване на ръка успях да подбера хиперпараметри за CountVectorizer, които дават по-добър score."
   ]
  },
  {
   "cell_type": "code",
   "execution_count": 38,
   "metadata": {},
   "outputs": [
    {
     "name": "stdout",
     "output_type": "stream",
     "text": [
      "[ 0.8471201   0.85182348  0.84750958]\n",
      "[-0.43142161 -0.4204744  -0.42819903]\n"
     ]
    }
   ],
   "source": [
    "cv = CountVectorizer(lowercase=False, binary=True, min_df=0.0001,max_df=5000/19579)\n",
    "X = cv.fit_transform(data.text)\n",
    "\n",
    "df = data.drop(['text','author'], axis=1)\n",
    "X2 = scipy.sparse.csr_matrix(df.values)\n",
    "X = hstack((X, X2))\n",
    "\n",
    "mn = MultinomialNB()\n",
    "print(cross_val_score(mn, X, data.author, cv=3, n_jobs=3))\n",
    "print(cross_val_score(mn, X, data.author, cv=3, n_jobs=3, scoring='neg_log_loss'))"
   ]
  },
  {
   "cell_type": "markdown",
   "metadata": {
    "collapsed": true
   },
   "source": [
    "Ще пробвам да задам хиперпараметър алфа на CountVectorizer. Ще го подбера с помощта на GridSearch."
   ]
  },
  {
   "cell_type": "code",
   "execution_count": 39,
   "metadata": {},
   "outputs": [
    {
     "data": {
      "text/html": [
       "<div>\n",
       "<style>\n",
       "    .dataframe thead tr:only-child th {\n",
       "        text-align: right;\n",
       "    }\n",
       "\n",
       "    .dataframe thead th {\n",
       "        text-align: left;\n",
       "    }\n",
       "\n",
       "    .dataframe tbody tr th {\n",
       "        vertical-align: top;\n",
       "    }\n",
       "</style>\n",
       "<table border=\"1\" class=\"dataframe\">\n",
       "  <thead>\n",
       "    <tr style=\"text-align: right;\">\n",
       "      <th></th>\n",
       "      <th>rank_test_score</th>\n",
       "      <th>mean_test_score</th>\n",
       "      <th>params</th>\n",
       "    </tr>\n",
       "  </thead>\n",
       "  <tbody>\n",
       "    <tr>\n",
       "      <th>4</th>\n",
       "      <td>1</td>\n",
       "      <td>0.851065</td>\n",
       "      <td>{'alpha': 0.5}</td>\n",
       "    </tr>\n",
       "    <tr>\n",
       "      <th>5</th>\n",
       "      <td>2</td>\n",
       "      <td>0.849992</td>\n",
       "      <td>{'alpha': 0.6}</td>\n",
       "    </tr>\n",
       "    <tr>\n",
       "      <th>6</th>\n",
       "      <td>3</td>\n",
       "      <td>0.849686</td>\n",
       "      <td>{'alpha': 0.7}</td>\n",
       "    </tr>\n",
       "    <tr>\n",
       "      <th>8</th>\n",
       "      <td>4</td>\n",
       "      <td>0.849533</td>\n",
       "      <td>{'alpha': 0.9}</td>\n",
       "    </tr>\n",
       "    <tr>\n",
       "      <th>7</th>\n",
       "      <td>5</td>\n",
       "      <td>0.849073</td>\n",
       "      <td>{'alpha': 0.8}</td>\n",
       "    </tr>\n",
       "    <tr>\n",
       "      <th>9</th>\n",
       "      <td>6</td>\n",
       "      <td>0.848818</td>\n",
       "      <td>{'alpha': 1}</td>\n",
       "    </tr>\n",
       "    <tr>\n",
       "      <th>3</th>\n",
       "      <td>7</td>\n",
       "      <td>0.848154</td>\n",
       "      <td>{'alpha': 0.1}</td>\n",
       "    </tr>\n",
       "    <tr>\n",
       "      <th>2</th>\n",
       "      <td>8</td>\n",
       "      <td>0.846826</td>\n",
       "      <td>{'alpha': 0.08}</td>\n",
       "    </tr>\n",
       "    <tr>\n",
       "      <th>1</th>\n",
       "      <td>9</td>\n",
       "      <td>0.842076</td>\n",
       "      <td>{'alpha': 0.03}</td>\n",
       "    </tr>\n",
       "    <tr>\n",
       "      <th>0</th>\n",
       "      <td>10</td>\n",
       "      <td>0.837479</td>\n",
       "      <td>{'alpha': 0.01}</td>\n",
       "    </tr>\n",
       "  </tbody>\n",
       "</table>\n",
       "</div>"
      ],
      "text/plain": [
       "   rank_test_score  mean_test_score           params\n",
       "4                1         0.851065   {'alpha': 0.5}\n",
       "5                2         0.849992   {'alpha': 0.6}\n",
       "6                3         0.849686   {'alpha': 0.7}\n",
       "8                4         0.849533   {'alpha': 0.9}\n",
       "7                5         0.849073   {'alpha': 0.8}\n",
       "9                6         0.848818     {'alpha': 1}\n",
       "3                7         0.848154   {'alpha': 0.1}\n",
       "2                8         0.846826  {'alpha': 0.08}\n",
       "1                9         0.842076  {'alpha': 0.03}\n",
       "0               10         0.837479  {'alpha': 0.01}"
      ]
     },
     "execution_count": 39,
     "metadata": {},
     "output_type": "execute_result"
    }
   ],
   "source": [
    "from sklearn.model_selection import GridSearchCV\n",
    "\n",
    "gs = GridSearchCV(mn,{'alpha':[0.01,0.03,0.08,0.1,0.5,0.6,0.7,0.8,0.9,1]})\n",
    "gs.fit(X, data.author)\n",
    "pd.DataFrame(gs.cv_results_)[['rank_test_score', 'mean_test_score', 'params']].sort_values(by='rank_test_score').head(10)"
   ]
  },
  {
   "cell_type": "markdown",
   "metadata": {},
   "source": [
    "Най-добър резултат има при алфа=0.6. Пробвам с алфа=0.6 и cross validation."
   ]
  },
  {
   "cell_type": "code",
   "execution_count": 40,
   "metadata": {},
   "outputs": [
    {
     "name": "stdout",
     "output_type": "stream",
     "text": [
      "[ 0.85186887  0.85090408  0.85042146]\n",
      "[-0.44073235 -0.42916394 -0.43938534]\n"
     ]
    }
   ],
   "source": [
    "mn = MultinomialNB(alpha=0.5)\n",
    "\n",
    "print(cross_val_score(mn, X, data.author, cv=3, n_jobs=3))\n",
    "print(cross_val_score(mn, X, data.author, cv=3, n_jobs=3, scoring='neg_log_loss'))"
   ]
  },
  {
   "cell_type": "markdown",
   "metadata": {},
   "source": [
    "Сега ще пробвам да сменя CountVectorizer с TfidfVectorizer."
   ]
  },
  {
   "cell_type": "code",
   "execution_count": 41,
   "metadata": {},
   "outputs": [
    {
     "name": "stdout",
     "output_type": "stream",
     "text": [
      "[ 0.68106618  0.67008888  0.68291188]\n",
      "[-0.68791486 -0.70505002 -0.69074672]\n"
     ]
    }
   ],
   "source": [
    "from sklearn.feature_extraction.text import TfidfVectorizer\n",
    "\n",
    "tf = TfidfVectorizer()\n",
    "X = tf.fit_transform(data.text)\n",
    "X = hstack((X, X2))\n",
    "\n",
    "mn = MultinomialNB()\n",
    "\n",
    "print(cross_val_score(mn, X, data.author, cv=3, n_jobs=3))\n",
    "print(cross_val_score(mn, X, data.author, cv=3, n_jobs=3, scoring='neg_log_loss'))"
   ]
  },
  {
   "cell_type": "markdown",
   "metadata": {},
   "source": [
    "Полъчавам доста по-лош score. Ще пробвам да променя хиперпараметрите."
   ]
  },
  {
   "cell_type": "code",
   "execution_count": 42,
   "metadata": {},
   "outputs": [
    {
     "name": "stdout",
     "output_type": "stream",
     "text": [
      "[ 0.40349265  0.40346307  0.4035249 ]\n",
      "[-5.20173457 -5.46573832 -5.31198545]\n"
     ]
    }
   ],
   "source": [
    "\n",
    "tf = TfidfVectorizer(lowercase=False,binary=True,ngram_range=(1,2))\n",
    "X = tf.fit_transform(data.text)\n",
    "X = hstack((X, X2))\n",
    "\n",
    "mn = MultinomialNB()\n",
    "\n",
    "print(cross_val_score(mn, X, data.author, cv=3, n_jobs=3))\n",
    "print(cross_val_score(mn, X, data.author, cv=3, n_jobs=3, scoring='neg_log_loss'))"
   ]
  },
  {
   "cell_type": "markdown",
   "metadata": {},
   "source": [
    "Много лош резултат. Все пак ще пробвам с GridSearch MultinomialNB."
   ]
  },
  {
   "cell_type": "code",
   "execution_count": 43,
   "metadata": {},
   "outputs": [
    {
     "data": {
      "text/html": [
       "<div>\n",
       "<style>\n",
       "    .dataframe thead tr:only-child th {\n",
       "        text-align: right;\n",
       "    }\n",
       "\n",
       "    .dataframe thead th {\n",
       "        text-align: left;\n",
       "    }\n",
       "\n",
       "    .dataframe tbody tr th {\n",
       "        vertical-align: top;\n",
       "    }\n",
       "</style>\n",
       "<table border=\"1\" class=\"dataframe\">\n",
       "  <thead>\n",
       "    <tr style=\"text-align: right;\">\n",
       "      <th></th>\n",
       "      <th>rank_test_score</th>\n",
       "      <th>mean_test_score</th>\n",
       "      <th>params</th>\n",
       "    </tr>\n",
       "  </thead>\n",
       "  <tbody>\n",
       "    <tr>\n",
       "      <th>1</th>\n",
       "      <td>1</td>\n",
       "      <td>0.851065</td>\n",
       "      <td>{'alpha': 0.03}</td>\n",
       "    </tr>\n",
       "    <tr>\n",
       "      <th>0</th>\n",
       "      <td>2</td>\n",
       "      <td>0.846417</td>\n",
       "      <td>{'alpha': 0.01}</td>\n",
       "    </tr>\n",
       "    <tr>\n",
       "      <th>2</th>\n",
       "      <td>3</td>\n",
       "      <td>0.841463</td>\n",
       "      <td>{'alpha': 0.08}</td>\n",
       "    </tr>\n",
       "    <tr>\n",
       "      <th>3</th>\n",
       "      <td>4</td>\n",
       "      <td>0.823689</td>\n",
       "      <td>{'alpha': 0.1}</td>\n",
       "    </tr>\n",
       "    <tr>\n",
       "      <th>4</th>\n",
       "      <td>5</td>\n",
       "      <td>0.407426</td>\n",
       "      <td>{'alpha': 0.5}</td>\n",
       "    </tr>\n",
       "    <tr>\n",
       "      <th>5</th>\n",
       "      <td>6</td>\n",
       "      <td>0.404668</td>\n",
       "      <td>{'alpha': 0.6}</td>\n",
       "    </tr>\n",
       "    <tr>\n",
       "      <th>6</th>\n",
       "      <td>7</td>\n",
       "      <td>0.403953</td>\n",
       "      <td>{'alpha': 0.7}</td>\n",
       "    </tr>\n",
       "    <tr>\n",
       "      <th>7</th>\n",
       "      <td>8</td>\n",
       "      <td>0.403647</td>\n",
       "      <td>{'alpha': 0.8}</td>\n",
       "    </tr>\n",
       "    <tr>\n",
       "      <th>8</th>\n",
       "      <td>9</td>\n",
       "      <td>0.403545</td>\n",
       "      <td>{'alpha': 0.9}</td>\n",
       "    </tr>\n",
       "    <tr>\n",
       "      <th>9</th>\n",
       "      <td>10</td>\n",
       "      <td>0.403494</td>\n",
       "      <td>{'alpha': 1}</td>\n",
       "    </tr>\n",
       "  </tbody>\n",
       "</table>\n",
       "</div>"
      ],
      "text/plain": [
       "   rank_test_score  mean_test_score           params\n",
       "1                1         0.851065  {'alpha': 0.03}\n",
       "0                2         0.846417  {'alpha': 0.01}\n",
       "2                3         0.841463  {'alpha': 0.08}\n",
       "3                4         0.823689   {'alpha': 0.1}\n",
       "4                5         0.407426   {'alpha': 0.5}\n",
       "5                6         0.404668   {'alpha': 0.6}\n",
       "6                7         0.403953   {'alpha': 0.7}\n",
       "7                8         0.403647   {'alpha': 0.8}\n",
       "8                9         0.403545   {'alpha': 0.9}\n",
       "9               10         0.403494     {'alpha': 1}"
      ]
     },
     "execution_count": 43,
     "metadata": {},
     "output_type": "execute_result"
    }
   ],
   "source": [
    "gs = GridSearchCV(mn,{'alpha':[0.01,0.03,0.08,0.1,0.5,0.6,0.7,0.8,0.9,1]})\n",
    "gs.fit(X, data.author)\n",
    "pd.DataFrame(gs.cv_results_)[['rank_test_score', 'mean_test_score', 'params']].sort_values(by='rank_test_score').head(10)"
   ]
  },
  {
   "cell_type": "markdown",
   "metadata": {},
   "source": [
    "Не знам защо, но за алфа<=0.1 получавам доста по-добър резултат."
   ]
  },
  {
   "cell_type": "code",
   "execution_count": 44,
   "metadata": {},
   "outputs": [
    {
     "name": "stdout",
     "output_type": "stream",
     "text": [
      "[ 0.85585172  0.85182348  0.84551724]\n",
      "[-0.39377993 -0.39472486 -0.39713826]\n"
     ]
    }
   ],
   "source": [
    "mn = MultinomialNB(alpha=0.03)\n",
    "\n",
    "print(cross_val_score(mn, X, data.author, cv=3, n_jobs=3))\n",
    "print(cross_val_score(mn, X, data.author, cv=3, n_jobs=3, scoring='neg_log_loss'))"
   ]
  },
  {
   "cell_type": "markdown",
   "metadata": {},
   "source": [
    "Доста по-добър резултат за negative log loss. Ще събера всичко в два трансформатора, ще ги сложа в pipeline и ще пробвам в kaggle.\n",
    "В първия трансформатор ще сложа добавянето на фичърите, а във втория ще сложа векторизирането на текста с подаден векторизатор и конкатенацията на двете."
   ]
  },
  {
   "cell_type": "code",
   "execution_count": 45,
   "metadata": {
    "collapsed": true
   },
   "outputs": [],
   "source": [
    "from sklearn.base import TransformerMixin\n",
    "\n",
    "\n",
    "\n",
    "class Tr1(TransformerMixin):\n",
    "    def replace(self, text, punct):\n",
    "        for p in punct:\n",
    "            text = text.replace(p,' ')\n",
    "        return text\n",
    "    \n",
    "    def transform(self, data2):\n",
    "        data = data2.copy()\n",
    "        data['words'] = data.text.apply(lambda s: len(str(s).split()))\n",
    "        data['unique_words'] = data.text.apply(lambda s: len(set(str(s).split())))/data['words']\n",
    "        data['only_capital_letter_words'] = (data.text.apply(lambda s: True in [str.isupper(w) for w in str(s)])).astype(float)\n",
    "        data['average_word_length'] = data.text.apply(lambda s: np.mean([len(w) for w in str(s).split()]))\n",
    "        \n",
    "        data['?'] = data.text.apply(lambda s: sum([('?' in w) for w in str(s).split()]))\n",
    "        data['.'] = data.text.apply(lambda s: sum([('.' in w) for w in str(s).split()]))\n",
    "        data[','] = data.text.apply(lambda s: sum([(',' in w) for w in str(s).split()]))\n",
    "        punct = ['.',',','?','!',';',':','-','\"',\"'\"]\n",
    "        \n",
    "        data['negative'] =data.text.apply(lambda s: sum(\n",
    "            [('not' in w or 'dis' in w or 'ir' in w or 'il' in w or 'im' in w) for w in str(s).split()]))\n",
    "        data['I'] = (data.text.apply(lambda s: True in[('I' in w or 'me' in w or 'my' in w) for w in str(s).split()])).astype(float)\n",
    "        data['names'] = data.text.apply(lambda s: sum([str.isupper(w[0]) for w in str(s).split()]))\n",
    "        \n",
    "        data['text']=data.text.apply(lambda s: self.replace(str(s), punct))\n",
    "        \n",
    "        data['symbols'] = data.text.apply(lambda s: len(str(s)))\n",
    "        return data\n",
    "    \n",
    "    def fit(self, data, y):\n",
    "        return self\n",
    "    \n",
    "\n",
    "    \n",
    "class Tr2(TransformerMixin):\n",
    "    def __init__(self, vect):\n",
    "        self.vect = vect\n",
    "        \n",
    "    def fit(self, data, y):\n",
    "        self.vect.fit(data.text)\n",
    "        return self\n",
    "        \n",
    "    def transform(self, data):\n",
    "        X = self.vect.transform(data.text)\n",
    "        df = data.drop(['text'], axis=1)\n",
    "        X2 = scipy.sparse.csr_matrix(df.values)\n",
    "        X = hstack((X, X2))\n",
    "        return X\n",
    "    \n",
    "        \n",
    "    \n",
    "\n",
    "\n"
   ]
  },
  {
   "cell_type": "code",
   "execution_count": 46,
   "metadata": {},
   "outputs": [
    {
     "name": "stdout",
     "output_type": "stream",
     "text": [
      "[ 0.8549326   0.85151701  0.8456705 ]\n",
      "[-0.37325238 -0.37536459 -0.3799547 ]\n"
     ]
    }
   ],
   "source": [
    "from sklearn.model_selection import train_test_split\n",
    "\n",
    "cv=TfidfVectorizer(lowercase=False, binary=True, ngram_range=(1,2))\n",
    "pipeline = Pipeline([\n",
    "('tr1', Tr1()),\n",
    "('tr2', Tr2(cv)),\n",
    "('mnb', MultinomialNB(alpha=0.03)),\n",
    "])\n",
    "\n",
    "\n",
    "train = pd.read_csv('data/spooky/train.csv', index_col=[0])\n",
    "test = pd.read_csv('data/spooky/test.csv', index_col=[0])\n",
    "\n",
    "X = train.drop('author', 1)\n",
    "y = train['author']\n",
    "\n",
    "print(cross_val_score(pipeline, X, y, cv=3, n_jobs=1))\n",
    "print(cross_val_score(pipeline, X, y, cv=3, n_jobs=1, scoring='neg_log_loss'))\n"
   ]
  },
  {
   "cell_type": "markdown",
   "metadata": {},
   "source": [
    "Ще тренирам модела с всички тренировъчни данни и ще предиктна за тестовите данни."
   ]
  },
  {
   "cell_type": "code",
   "execution_count": 47,
   "metadata": {},
   "outputs": [
    {
     "data": {
      "text/plain": [
       "array([[ 0.08118652,  0.00470666,  0.91410683],\n",
       "       [ 0.94778138,  0.01804529,  0.03417333],\n",
       "       [ 0.00913485,  0.98614398,  0.00472117],\n",
       "       ..., \n",
       "       [ 0.99358713,  0.00186575,  0.00454712],\n",
       "       [ 0.01411439,  0.00201332,  0.98387229],\n",
       "       [ 0.29690387,  0.69181293,  0.01128319]])"
      ]
     },
     "execution_count": 47,
     "metadata": {},
     "output_type": "execute_result"
    }
   ],
   "source": [
    "\n",
    "pipeline = pipeline.fit(train.drop(['author'],axis=1), train.author)\n",
    "test_predictions = pipeline.predict_proba(test)\n",
    "test_predictions"
   ]
  },
  {
   "cell_type": "code",
   "execution_count": 48,
   "metadata": {},
   "outputs": [
    {
     "data": {
      "text/html": [
       "<div>\n",
       "<style>\n",
       "    .dataframe thead tr:only-child th {\n",
       "        text-align: right;\n",
       "    }\n",
       "\n",
       "    .dataframe thead th {\n",
       "        text-align: left;\n",
       "    }\n",
       "\n",
       "    .dataframe tbody tr th {\n",
       "        vertical-align: top;\n",
       "    }\n",
       "</style>\n",
       "<table border=\"1\" class=\"dataframe\">\n",
       "  <thead>\n",
       "    <tr style=\"text-align: right;\">\n",
       "      <th></th>\n",
       "      <th>EAP</th>\n",
       "      <th>HPL</th>\n",
       "      <th>MWS</th>\n",
       "    </tr>\n",
       "    <tr>\n",
       "      <th>id</th>\n",
       "      <th></th>\n",
       "      <th></th>\n",
       "      <th></th>\n",
       "    </tr>\n",
       "  </thead>\n",
       "  <tbody>\n",
       "    <tr>\n",
       "      <th>id02310</th>\n",
       "      <td>0.081187</td>\n",
       "      <td>0.004707</td>\n",
       "      <td>0.914107</td>\n",
       "    </tr>\n",
       "    <tr>\n",
       "      <th>id24541</th>\n",
       "      <td>0.947781</td>\n",
       "      <td>0.018045</td>\n",
       "      <td>0.034173</td>\n",
       "    </tr>\n",
       "    <tr>\n",
       "      <th>id00134</th>\n",
       "      <td>0.009135</td>\n",
       "      <td>0.986144</td>\n",
       "      <td>0.004721</td>\n",
       "    </tr>\n",
       "    <tr>\n",
       "      <th>id27757</th>\n",
       "      <td>0.770349</td>\n",
       "      <td>0.219350</td>\n",
       "      <td>0.010301</td>\n",
       "    </tr>\n",
       "    <tr>\n",
       "      <th>id04081</th>\n",
       "      <td>0.662608</td>\n",
       "      <td>0.234005</td>\n",
       "      <td>0.103387</td>\n",
       "    </tr>\n",
       "    <tr>\n",
       "      <th>id27337</th>\n",
       "      <td>0.997060</td>\n",
       "      <td>0.002736</td>\n",
       "      <td>0.000203</td>\n",
       "    </tr>\n",
       "    <tr>\n",
       "      <th>id24265</th>\n",
       "      <td>0.974354</td>\n",
       "      <td>0.016607</td>\n",
       "      <td>0.009040</td>\n",
       "    </tr>\n",
       "    <tr>\n",
       "      <th>id25917</th>\n",
       "      <td>0.005404</td>\n",
       "      <td>0.038865</td>\n",
       "      <td>0.955730</td>\n",
       "    </tr>\n",
       "    <tr>\n",
       "      <th>id04951</th>\n",
       "      <td>0.997881</td>\n",
       "      <td>0.002063</td>\n",
       "      <td>0.000056</td>\n",
       "    </tr>\n",
       "    <tr>\n",
       "      <th>id14549</th>\n",
       "      <td>0.670758</td>\n",
       "      <td>0.201131</td>\n",
       "      <td>0.128111</td>\n",
       "    </tr>\n",
       "  </tbody>\n",
       "</table>\n",
       "</div>"
      ],
      "text/plain": [
       "              EAP       HPL       MWS\n",
       "id                                   \n",
       "id02310  0.081187  0.004707  0.914107\n",
       "id24541  0.947781  0.018045  0.034173\n",
       "id00134  0.009135  0.986144  0.004721\n",
       "id27757  0.770349  0.219350  0.010301\n",
       "id04081  0.662608  0.234005  0.103387\n",
       "id27337  0.997060  0.002736  0.000203\n",
       "id24265  0.974354  0.016607  0.009040\n",
       "id25917  0.005404  0.038865  0.955730\n",
       "id04951  0.997881  0.002063  0.000056\n",
       "id14549  0.670758  0.201131  0.128111"
      ]
     },
     "execution_count": 48,
     "metadata": {},
     "output_type": "execute_result"
    }
   ],
   "source": [
    "submit_file = pd.DataFrame(test_predictions, columns=['EAP', 'HPL', 'MWS'], index=test.index)\n",
    "submit_file.to_csv(\"data/spooky/submit.csv\")\n",
    "\n",
    "submit_file.head(10)"
   ]
  },
  {
   "cell_type": "markdown",
   "metadata": {},
   "source": [
    "Резултат в kaggle :0.33915"
   ]
  },
  {
   "cell_type": "markdown",
   "metadata": {},
   "source": [
    "За крайния резултат използвах фичърите:\n",
    "    - 'words', 'unique_words', 'only_capital_letter_words', 'average_word_length', 'symbols';\n",
    "    - '.', '?', ',' (брой на тези знаци в текст)\n",
    "    - 'negative' (брой отрицателни думи и представки)\n",
    "    -  'I' (дали текстът е в първо лице)\n",
    "    -  'names'(брой имена в текста)\n",
    "    \n",
    "Премахнах пунктуацията от текста и го прекарах през TfidfVectorizer(lowercase=False, binary=True, ngram_range=(1,2)).\n",
    "Обединих всички фичъри и тренирах с тях MultinomialNB(alpha=0.03)."
   ]
  }
 ],
 "metadata": {
  "kernelspec": {
   "display_name": "Python 3",
   "language": "python",
   "name": "python3"
  },
  "language_info": {
   "codemirror_mode": {
    "name": "ipython",
    "version": 3
   },
   "file_extension": ".py",
   "mimetype": "text/x-python",
   "name": "python",
   "nbconvert_exporter": "python",
   "pygments_lexer": "ipython3",
   "version": "3.6.2"
  }
 },
 "nbformat": 4,
 "nbformat_minor": 2
}
